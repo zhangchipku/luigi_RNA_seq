{
 "cells": [
  {
   "cell_type": "code",
   "execution_count": 3,
   "metadata": {},
   "outputs": [],
   "source": [
    "import pandas as pd"
   ]
  },
  {
   "cell_type": "code",
   "execution_count": 5,
   "metadata": {},
   "outputs": [],
   "source": [
    "file = pd.read_table('data/quant.sf')"
   ]
  },
  {
   "cell_type": "code",
   "execution_count": 7,
   "metadata": {},
   "outputs": [
    {
     "data": {
      "text/html": [
       "<div>\n",
       "<style scoped>\n",
       "    .dataframe tbody tr th:only-of-type {\n",
       "        vertical-align: middle;\n",
       "    }\n",
       "\n",
       "    .dataframe tbody tr th {\n",
       "        vertical-align: top;\n",
       "    }\n",
       "\n",
       "    .dataframe thead th {\n",
       "        text-align: right;\n",
       "    }\n",
       "</style>\n",
       "<table border=\"1\" class=\"dataframe\">\n",
       "  <thead>\n",
       "    <tr style=\"text-align: right;\">\n",
       "      <th></th>\n",
       "      <th>Name</th>\n",
       "      <th>Length</th>\n",
       "      <th>EffectiveLength</th>\n",
       "      <th>TPM</th>\n",
       "      <th>NumReads</th>\n",
       "    </tr>\n",
       "  </thead>\n",
       "  <tbody>\n",
       "    <tr>\n",
       "      <th>0</th>\n",
       "      <td>ENST00000456328.2</td>\n",
       "      <td>1657</td>\n",
       "      <td>1486.1400</td>\n",
       "      <td>0.059943</td>\n",
       "      <td>3.164610</td>\n",
       "    </tr>\n",
       "    <tr>\n",
       "      <th>1</th>\n",
       "      <td>ENST00000450305.2</td>\n",
       "      <td>632</td>\n",
       "      <td>461.3410</td>\n",
       "      <td>0.000643</td>\n",
       "      <td>0.010543</td>\n",
       "    </tr>\n",
       "    <tr>\n",
       "      <th>2</th>\n",
       "      <td>ENST00000488147.1</td>\n",
       "      <td>1351</td>\n",
       "      <td>1180.1400</td>\n",
       "      <td>2.820080</td>\n",
       "      <td>118.226000</td>\n",
       "    </tr>\n",
       "    <tr>\n",
       "      <th>3</th>\n",
       "      <td>ENST00000619216.1</td>\n",
       "      <td>68</td>\n",
       "      <td>11.6112</td>\n",
       "      <td>0.000000</td>\n",
       "      <td>0.000000</td>\n",
       "    </tr>\n",
       "    <tr>\n",
       "      <th>4</th>\n",
       "      <td>ENST00000473358.1</td>\n",
       "      <td>712</td>\n",
       "      <td>541.3040</td>\n",
       "      <td>0.000000</td>\n",
       "      <td>0.000000</td>\n",
       "    </tr>\n",
       "  </tbody>\n",
       "</table>\n",
       "</div>"
      ],
      "text/plain": [
       "                Name  Length  EffectiveLength       TPM    NumReads\n",
       "0  ENST00000456328.2    1657        1486.1400  0.059943    3.164610\n",
       "1  ENST00000450305.2     632         461.3410  0.000643    0.010543\n",
       "2  ENST00000488147.1    1351        1180.1400  2.820080  118.226000\n",
       "3  ENST00000619216.1      68          11.6112  0.000000    0.000000\n",
       "4  ENST00000473358.1     712         541.3040  0.000000    0.000000"
      ]
     },
     "execution_count": 7,
     "metadata": {},
     "output_type": "execute_result"
    }
   ],
   "source": [
    "file.head()"
   ]
  },
  {
   "cell_type": "code",
   "execution_count": null,
   "metadata": {},
   "outputs": [],
   "source": []
  }
 ],
 "metadata": {
  "kernelspec": {
   "display_name": "Python 3",
   "language": "python",
   "name": "python3"
  },
  "language_info": {
   "codemirror_mode": {
    "name": "ipython",
    "version": 3
   },
   "file_extension": ".py",
   "mimetype": "text/x-python",
   "name": "python",
   "nbconvert_exporter": "python",
   "pygments_lexer": "ipython3",
   "version": "3.7.5"
  }
 },
 "nbformat": 4,
 "nbformat_minor": 2
}
